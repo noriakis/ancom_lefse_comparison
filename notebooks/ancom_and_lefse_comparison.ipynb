{
 "cells": [
  {
   "cell_type": "code",
   "execution_count": 31,
   "metadata": {},
   "outputs": [],
   "source": [
    "source(\"ancom_custom.R\")\n",
    "library(tidyverse)\n",
    "library(firatheme)"
   ]
  },
  {
   "cell_type": "code",
   "execution_count": 32,
   "metadata": {},
   "outputs": [],
   "source": [
    "feature_table <- read.table(\"../data/hmp_feature.txt\", sep=\"\\t\", header=1, row.names=1)\n",
    "meta_data <- read.table(\"../data/hmp_meta.txt\", sep=\"\\t\", header=1)"
   ]
  },
  {
   "cell_type": "code",
   "execution_count": 33,
   "metadata": {},
   "outputs": [],
   "source": [
    "feature_table = feature_table; meta_data = meta_data; sample_var = \"ID\"; group_var = \"oxygen_availability\";\n",
    "out_cut = 0.05; zero_cut = 0.9; lib_cut = 0; neg_lb = FALSE\n",
    "prepro = feature_table_pre_process(feature_table, meta_data, sample_var, group_var, \n",
    "                                   out_cut, zero_cut, lib_cut, neg_lb)\n",
    "feature_table = prepro$feature_table # Preprocessed feature table\n",
    "meta_data = prepro$meta_data # Preprocessed metadata\n",
    "struc_zero = prepro$structure_zeros # Structural zero info"
   ]
  },
  {
   "cell_type": "code",
   "execution_count": 34,
   "metadata": {},
   "outputs": [
    {
     "name": "stdout",
     "output_type": "stream",
     "text": [
      "[1] \"Cutoff value for W:  628.1\"\n",
      "[1] \"detected_0.9:  628.2\"\n",
      "[1] \"detected_0.8:  558.4\"\n",
      "[1] \"detected_0.7:  488.6\"\n",
      "[1] \"detected_0.6:  418.8\"\n"
     ]
    }
   ],
   "source": [
    "# ANCOM without covariate\n",
    "main_var = \"oxygen_availability\"; p_adj_method = \"BH\"; alpha = 0.05\n",
    "adj_formula = NULL; rand_formula = NULL\n",
    "t_start = Sys.time()\n",
    "res = ANCOM(feature_table, meta_data, struc_zero, main_var, p_adj_method, \n",
    "            alpha, adj_formula, rand_formula)\n",
    "t_end = Sys.time()\n",
    "t_run_w = t_end - t_start"
   ]
  },
  {
   "cell_type": "code",
   "execution_count": 35,
   "metadata": {},
   "outputs": [
    {
     "name": "stdout",
     "output_type": "stream",
     "text": [
      "Time difference of 11.90709 mins\n"
     ]
    }
   ],
   "source": [
    "print(t_run_w)"
   ]
  },
  {
   "cell_type": "code",
   "execution_count": 36,
   "metadata": {},
   "outputs": [
    {
     "data": {
      "text/html": [
       "<ol class=list-inline>\n",
       "\t<li>'Actinomyces'</li>\n",
       "\t<li>'Corynebacterium'</li>\n",
       "\t<li>'Rothia'</li>\n",
       "\t<li>'Propionibacterium'</li>\n",
       "\t<li>'Bifidobacterium'</li>\n",
       "\t<li>'Bacteroides'</li>\n",
       "\t<li>'Barnesiella'</li>\n",
       "\t<li>'Butyricimonas'</li>\n",
       "\t<li>'Odoribacter'</li>\n",
       "\t<li>'Parabacteroides'</li>\n",
       "\t<li>'Alistipes'</li>\n",
       "\t<li>'Gemella'</li>\n",
       "\t<li>'Staphylococcus'</li>\n",
       "\t<li>'Streptococcus'</li>\n",
       "\t<li>'Anaerovorax'</li>\n",
       "\t<li>'Blautia'</li>\n",
       "\t<li>'Anaerococcus'</li>\n",
       "\t<li>'Finegoldia'</li>\n",
       "\t<li>'Peptoniphilus'</li>\n",
       "\t<li>'Anaerostipes'</li>\n",
       "\t<li>'Coprococcus'</li>\n",
       "\t<li>'Dorea'</li>\n",
       "\t<li>'Pseudobutyrivibrio'</li>\n",
       "\t<li>'Roseburia'</li>\n",
       "\t<li>'Acetivibrio'</li>\n",
       "\t<li>'Anaerotruncus'</li>\n",
       "\t<li>'Butyricicoccus'</li>\n",
       "\t<li>'Faecalibacterium'</li>\n",
       "\t<li>'Oscillibacter'</li>\n",
       "\t<li>'Ruminococcus'</li>\n",
       "\t<li>'Sporobacter'</li>\n",
       "\t<li>'Subdoligranulum'</li>\n",
       "\t<li>'Dialister'</li>\n",
       "\t<li>'Phascolarctobacterium'</li>\n",
       "\t<li>'Coprobacillus'</li>\n",
       "\t<li>'Holdemania'</li>\n",
       "\t<li>'Turicibacter'</li>\n",
       "\t<li>'Fusobacterium'</li>\n",
       "\t<li>'Parasutterella'</li>\n",
       "\t<li>'Sutterella'</li>\n",
       "\t<li>'Desulfovibrio'</li>\n",
       "\t<li>'Acinetobacter'</li>\n",
       "\t<li>'Pseudomonas'</li>\n",
       "\t<li>'Akkermansia'</li>\n",
       "</ol>\n"
      ],
      "text/latex": [
       "\\begin{enumerate*}\n",
       "\\item 'Actinomyces'\n",
       "\\item 'Corynebacterium'\n",
       "\\item 'Rothia'\n",
       "\\item 'Propionibacterium'\n",
       "\\item 'Bifidobacterium'\n",
       "\\item 'Bacteroides'\n",
       "\\item 'Barnesiella'\n",
       "\\item 'Butyricimonas'\n",
       "\\item 'Odoribacter'\n",
       "\\item 'Parabacteroides'\n",
       "\\item 'Alistipes'\n",
       "\\item 'Gemella'\n",
       "\\item 'Staphylococcus'\n",
       "\\item 'Streptococcus'\n",
       "\\item 'Anaerovorax'\n",
       "\\item 'Blautia'\n",
       "\\item 'Anaerococcus'\n",
       "\\item 'Finegoldia'\n",
       "\\item 'Peptoniphilus'\n",
       "\\item 'Anaerostipes'\n",
       "\\item 'Coprococcus'\n",
       "\\item 'Dorea'\n",
       "\\item 'Pseudobutyrivibrio'\n",
       "\\item 'Roseburia'\n",
       "\\item 'Acetivibrio'\n",
       "\\item 'Anaerotruncus'\n",
       "\\item 'Butyricicoccus'\n",
       "\\item 'Faecalibacterium'\n",
       "\\item 'Oscillibacter'\n",
       "\\item 'Ruminococcus'\n",
       "\\item 'Sporobacter'\n",
       "\\item 'Subdoligranulum'\n",
       "\\item 'Dialister'\n",
       "\\item 'Phascolarctobacterium'\n",
       "\\item 'Coprobacillus'\n",
       "\\item 'Holdemania'\n",
       "\\item 'Turicibacter'\n",
       "\\item 'Fusobacterium'\n",
       "\\item 'Parasutterella'\n",
       "\\item 'Sutterella'\n",
       "\\item 'Desulfovibrio'\n",
       "\\item 'Acinetobacter'\n",
       "\\item 'Pseudomonas'\n",
       "\\item 'Akkermansia'\n",
       "\\end{enumerate*}\n"
      ],
      "text/markdown": [
       "1. 'Actinomyces'\n",
       "2. 'Corynebacterium'\n",
       "3. 'Rothia'\n",
       "4. 'Propionibacterium'\n",
       "5. 'Bifidobacterium'\n",
       "6. 'Bacteroides'\n",
       "7. 'Barnesiella'\n",
       "8. 'Butyricimonas'\n",
       "9. 'Odoribacter'\n",
       "10. 'Parabacteroides'\n",
       "11. 'Alistipes'\n",
       "12. 'Gemella'\n",
       "13. 'Staphylococcus'\n",
       "14. 'Streptococcus'\n",
       "15. 'Anaerovorax'\n",
       "16. 'Blautia'\n",
       "17. 'Anaerococcus'\n",
       "18. 'Finegoldia'\n",
       "19. 'Peptoniphilus'\n",
       "20. 'Anaerostipes'\n",
       "21. 'Coprococcus'\n",
       "22. 'Dorea'\n",
       "23. 'Pseudobutyrivibrio'\n",
       "24. 'Roseburia'\n",
       "25. 'Acetivibrio'\n",
       "26. 'Anaerotruncus'\n",
       "27. 'Butyricicoccus'\n",
       "28. 'Faecalibacterium'\n",
       "29. 'Oscillibacter'\n",
       "30. 'Ruminococcus'\n",
       "31. 'Sporobacter'\n",
       "32. 'Subdoligranulum'\n",
       "33. 'Dialister'\n",
       "34. 'Phascolarctobacterium'\n",
       "35. 'Coprobacillus'\n",
       "36. 'Holdemania'\n",
       "37. 'Turicibacter'\n",
       "38. 'Fusobacterium'\n",
       "39. 'Parasutterella'\n",
       "40. 'Sutterella'\n",
       "41. 'Desulfovibrio'\n",
       "42. 'Acinetobacter'\n",
       "43. 'Pseudomonas'\n",
       "44. 'Akkermansia'\n",
       "\n",
       "\n"
      ],
      "text/plain": [
       " [1] \"Actinomyces\"           \"Corynebacterium\"       \"Rothia\"               \n",
       " [4] \"Propionibacterium\"     \"Bifidobacterium\"       \"Bacteroides\"          \n",
       " [7] \"Barnesiella\"           \"Butyricimonas\"         \"Odoribacter\"          \n",
       "[10] \"Parabacteroides\"       \"Alistipes\"             \"Gemella\"              \n",
       "[13] \"Staphylococcus\"        \"Streptococcus\"         \"Anaerovorax\"          \n",
       "[16] \"Blautia\"               \"Anaerococcus\"          \"Finegoldia\"           \n",
       "[19] \"Peptoniphilus\"         \"Anaerostipes\"          \"Coprococcus\"          \n",
       "[22] \"Dorea\"                 \"Pseudobutyrivibrio\"    \"Roseburia\"            \n",
       "[25] \"Acetivibrio\"           \"Anaerotruncus\"         \"Butyricicoccus\"       \n",
       "[28] \"Faecalibacterium\"      \"Oscillibacter\"         \"Ruminococcus\"         \n",
       "[31] \"Sporobacter\"           \"Subdoligranulum\"       \"Dialister\"            \n",
       "[34] \"Phascolarctobacterium\" \"Coprobacillus\"         \"Holdemania\"           \n",
       "[37] \"Turicibacter\"          \"Fusobacterium\"         \"Parasutterella\"       \n",
       "[40] \"Sutterella\"            \"Desulfovibrio\"         \"Acinetobacter\"        \n",
       "[43] \"Pseudomonas\"           \"Akkermansia\"          "
      ]
     },
     "metadata": {},
     "output_type": "display_data"
    }
   ],
   "source": [
    "as.character(drop_na(res$out[res$out$detected_0.9,])$taxa_id)"
   ]
  },
  {
   "cell_type": "code",
   "execution_count": 37,
   "metadata": {},
   "outputs": [
    {
     "name": "stdout",
     "output_type": "stream",
     "text": [
      "[1] \"Cutoff value for W:  558.2\"\n",
      "[1] \"detected_0.9:  628.2\"\n",
      "[1] \"detected_0.8:  558.4\"\n",
      "[1] \"detected_0.7:  488.6\"\n",
      "[1] \"detected_0.6:  418.8\"\n"
     ]
    }
   ],
   "source": [
    "# ANCOM with a covariate\n",
    "main_var = \"oxygen_availability\"; p_adj_method = \"BH\"; alpha = 0.05\n",
    "adj_formula = \"body_site\"; rand_formula = NULL\n",
    "t_start = Sys.time()\n",
    "res2 = ANCOM(feature_table, meta_data, struc_zero, main_var, p_adj_method, \n",
    "            alpha, adj_formula, rand_formula)\n",
    "t_end = Sys.time()\n",
    "t_run_wo = t_end - t_start"
   ]
  },
  {
   "cell_type": "code",
   "execution_count": 38,
   "metadata": {},
   "outputs": [
    {
     "name": "stdout",
     "output_type": "stream",
     "text": [
      "Time difference of 5.794084 mins\n"
     ]
    }
   ],
   "source": [
    "print(t_run_wo)"
   ]
  },
  {
   "cell_type": "code",
   "execution_count": 39,
   "metadata": {},
   "outputs": [
    {
     "data": {
      "text/html": [
       "<ol class=list-inline>\n",
       "\t<li>'Corynebacterium'</li>\n",
       "\t<li>'Propionibacterium'</li>\n",
       "\t<li>'Bacteroides'</li>\n",
       "\t<li>'Barnesiella'</li>\n",
       "\t<li>'Butyricimonas'</li>\n",
       "\t<li>'Odoribacter'</li>\n",
       "\t<li>'Parabacteroides'</li>\n",
       "\t<li>'Paraprevotella'</li>\n",
       "\t<li>'Prevotella'</li>\n",
       "\t<li>'Alistipes'</li>\n",
       "\t<li>'Staphylococcus'</li>\n",
       "\t<li>'Anaerovorax'</li>\n",
       "\t<li>'Blautia'</li>\n",
       "\t<li>'Anaerostipes'</li>\n",
       "\t<li>'Coprococcus'</li>\n",
       "\t<li>'Dorea'</li>\n",
       "\t<li>'Roseburia'</li>\n",
       "\t<li>'Acetivibrio'</li>\n",
       "\t<li>'Anaerotruncus'</li>\n",
       "\t<li>'Butyricicoccus'</li>\n",
       "\t<li>'Faecalibacterium'</li>\n",
       "\t<li>'Oscillibacter'</li>\n",
       "\t<li>'Ruminococcus'</li>\n",
       "\t<li>'Sporobacter'</li>\n",
       "\t<li>'Subdoligranulum'</li>\n",
       "\t<li>'Acidaminococcus'</li>\n",
       "\t<li>'Dialister'</li>\n",
       "\t<li>'Phascolarctobacterium'</li>\n",
       "\t<li>'Coprobacillus'</li>\n",
       "\t<li>'Parasutterella'</li>\n",
       "\t<li>'Akkermansia'</li>\n",
       "</ol>\n"
      ],
      "text/latex": [
       "\\begin{enumerate*}\n",
       "\\item 'Corynebacterium'\n",
       "\\item 'Propionibacterium'\n",
       "\\item 'Bacteroides'\n",
       "\\item 'Barnesiella'\n",
       "\\item 'Butyricimonas'\n",
       "\\item 'Odoribacter'\n",
       "\\item 'Parabacteroides'\n",
       "\\item 'Paraprevotella'\n",
       "\\item 'Prevotella'\n",
       "\\item 'Alistipes'\n",
       "\\item 'Staphylococcus'\n",
       "\\item 'Anaerovorax'\n",
       "\\item 'Blautia'\n",
       "\\item 'Anaerostipes'\n",
       "\\item 'Coprococcus'\n",
       "\\item 'Dorea'\n",
       "\\item 'Roseburia'\n",
       "\\item 'Acetivibrio'\n",
       "\\item 'Anaerotruncus'\n",
       "\\item 'Butyricicoccus'\n",
       "\\item 'Faecalibacterium'\n",
       "\\item 'Oscillibacter'\n",
       "\\item 'Ruminococcus'\n",
       "\\item 'Sporobacter'\n",
       "\\item 'Subdoligranulum'\n",
       "\\item 'Acidaminococcus'\n",
       "\\item 'Dialister'\n",
       "\\item 'Phascolarctobacterium'\n",
       "\\item 'Coprobacillus'\n",
       "\\item 'Parasutterella'\n",
       "\\item 'Akkermansia'\n",
       "\\end{enumerate*}\n"
      ],
      "text/markdown": [
       "1. 'Corynebacterium'\n",
       "2. 'Propionibacterium'\n",
       "3. 'Bacteroides'\n",
       "4. 'Barnesiella'\n",
       "5. 'Butyricimonas'\n",
       "6. 'Odoribacter'\n",
       "7. 'Parabacteroides'\n",
       "8. 'Paraprevotella'\n",
       "9. 'Prevotella'\n",
       "10. 'Alistipes'\n",
       "11. 'Staphylococcus'\n",
       "12. 'Anaerovorax'\n",
       "13. 'Blautia'\n",
       "14. 'Anaerostipes'\n",
       "15. 'Coprococcus'\n",
       "16. 'Dorea'\n",
       "17. 'Roseburia'\n",
       "18. 'Acetivibrio'\n",
       "19. 'Anaerotruncus'\n",
       "20. 'Butyricicoccus'\n",
       "21. 'Faecalibacterium'\n",
       "22. 'Oscillibacter'\n",
       "23. 'Ruminococcus'\n",
       "24. 'Sporobacter'\n",
       "25. 'Subdoligranulum'\n",
       "26. 'Acidaminococcus'\n",
       "27. 'Dialister'\n",
       "28. 'Phascolarctobacterium'\n",
       "29. 'Coprobacillus'\n",
       "30. 'Parasutterella'\n",
       "31. 'Akkermansia'\n",
       "\n",
       "\n"
      ],
      "text/plain": [
       " [1] \"Corynebacterium\"       \"Propionibacterium\"     \"Bacteroides\"          \n",
       " [4] \"Barnesiella\"           \"Butyricimonas\"         \"Odoribacter\"          \n",
       " [7] \"Parabacteroides\"       \"Paraprevotella\"        \"Prevotella\"           \n",
       "[10] \"Alistipes\"             \"Staphylococcus\"        \"Anaerovorax\"          \n",
       "[13] \"Blautia\"               \"Anaerostipes\"          \"Coprococcus\"          \n",
       "[16] \"Dorea\"                 \"Roseburia\"             \"Acetivibrio\"          \n",
       "[19] \"Anaerotruncus\"         \"Butyricicoccus\"        \"Faecalibacterium\"     \n",
       "[22] \"Oscillibacter\"         \"Ruminococcus\"          \"Sporobacter\"          \n",
       "[25] \"Subdoligranulum\"       \"Acidaminococcus\"       \"Dialister\"            \n",
       "[28] \"Phascolarctobacterium\" \"Coprobacillus\"         \"Parasutterella\"       \n",
       "[31] \"Akkermansia\"          "
      ]
     },
     "metadata": {},
     "output_type": "display_data"
    }
   ],
   "source": [
    "as.character(drop_na(res2$out[res2$out$detected_0.9,])$taxa_id)"
   ]
  },
  {
   "cell_type": "code",
   "execution_count": 40,
   "metadata": {},
   "outputs": [],
   "source": [
    "# Number of taxa except structural zeros\n",
    "n_taxa = ifelse(is.null(struc_zero), nrow(feature_table), sum(apply(struc_zero, 1, sum) == 0))\n",
    "# Cutoff values for declaring differentially abundant taxa\n",
    "cut_off = c(0.9 * (n_taxa -1), 0.8 * (n_taxa -1), 0.7 * (n_taxa -1), 0.6 * (n_taxa -1), res$autoW)\n",
    "names(cut_off) = c(\"detected_0.9\", \"detected_0.8\", \"detected_0.7\", \"detected_0.6\",\"auto_W\")\n",
    "\n",
    "# Annotation data\n",
    "dat_ann = data.frame(x = min(res$fig$data$x), y = cut_off[\"detected_0.7\"], label = \"W[0.7]\")\n",
    "dat_ann2 = data.frame(x = min(res$fig$data$x), y = cut_off[\"auto_W\"], label = \"W(auto)\")\n",
    "\n",
    "fig = ggplot(data = res$fig$data) + aes(x = x, y = y, color=zero_ind) + \n",
    "  geom_point(size=4, alpha=.5)+\n",
    "  labs(x = \"CLR mean difference\", y = \"W statistic\") +\n",
    "  scale_color_fira(name = \"Structural zero\", drop = FALSE) + \n",
    "  theme_bw() +\n",
    "  geom_hline(yintercept = cut_off[\"detected_0.7\"], linetype = \"dashed\") + \n",
    "  geom_text(data = dat_ann, aes(x = x, y = y, label = label), \n",
    "            size = 4, vjust = -0.5, hjust = 0, color = firaPalette()[2], parse = TRUE)+\n",
    "  geom_hline(yintercept = cut_off[\"auto_W\"], linetype = \"dashed\") + \n",
    "  geom_text(data = dat_ann2, aes(x = x, y = y, label = label), \n",
    "            size = 4, vjust = -0.5, hjust = 0, color = firaPalette()[3], parse = TRUE)+\n",
    "  theme(plot.title = element_text(hjust = 0.5), legend.position = \"top\") + ggtitle(\"Without covariate\")"
   ]
  },
  {
   "cell_type": "code",
   "execution_count": 41,
   "metadata": {},
   "outputs": [],
   "source": [
    "# Number of taxa except structural zeros\n",
    "n_taxa = ifelse(is.null(struc_zero), nrow(feature_table), sum(apply(struc_zero, 1, sum) == 0))\n",
    "# Cutoff values for declaring differentially abundant taxa\n",
    "cut_off = c(0.9 * (n_taxa -1), 0.8 * (n_taxa -1), 0.7 * (n_taxa -1), 0.6 * (n_taxa -1), res2$autoW)\n",
    "names(cut_off) = c(\"detected_0.9\", \"detected_0.8\", \"detected_0.7\", \"detected_0.6\",\"auto_W\")\n",
    "\n",
    "# Annotation data\n",
    "dat_ann = data.frame(x = min(res2$fig$data$x), y = cut_off[\"detected_0.7\"], label = \"W[0.7]\")\n",
    "dat_ann2 = data.frame(x = min(res2$fig$data$x), y = cut_off[\"auto_W\"], label = \"W(auto)\")\n",
    "\n",
    "fig2 = ggplot(data = res2$fig$data) + aes(x = x, y = y, color=zero_ind) + \n",
    "  geom_point(size=4, alpha=.5)+\n",
    "  labs(x = \"CLR mean difference\", y = \"W statistic\") +\n",
    "  scale_color_fira(name = \"Structural zero\", drop = FALSE) + \n",
    "  theme_bw() +\n",
    "  geom_hline(yintercept = cut_off[\"detected_0.7\"], linetype = \"dashed\") + \n",
    "  geom_text(data = dat_ann, aes(x = x, y = y, label = label), \n",
    "            size = 4, vjust = -0.5, hjust = 0, color = firaPalette()[2], parse = TRUE)+\n",
    "  geom_hline(yintercept = cut_off[\"auto_W\"], linetype = \"dashed\") + \n",
    "  geom_text(data = dat_ann2, aes(x = x, y = y, label = label), \n",
    "            size = 4, vjust = -0.5, hjust = 0, color = firaPalette()[3], parse = TRUE)+\n",
    "  theme(plot.title = element_text(hjust = 0.5), legend.position = \"top\") + ggtitle(\"With a covariate\")"
   ]
  },
  {
   "cell_type": "code",
   "execution_count": 42,
   "metadata": {},
   "outputs": [
    {
     "name": "stderr",
     "output_type": "stream",
     "text": [
      "Warning message:\n",
      "“Removed 505 rows containing missing values (geom_point).”\n"
     ]
    },
    {
     "data": {
      "text/html": [
       "<strong>pdf:</strong> 2"
      ],
      "text/latex": [
       "\\textbf{pdf:} 2"
      ],
      "text/markdown": [
       "**pdf:** 2"
      ],
      "text/plain": [
       "pdf \n",
       "  2 "
      ]
     },
     "metadata": {},
     "output_type": "display_data"
    }
   ],
   "source": [
    "library(cowplot)\n",
    "png(\"../volcano_plot.png\", res=200, width=9, height=5, unit=\"in\")\n",
    "plot_grid(fig, fig2, nrow=1)\n",
    "dev.off()"
   ]
  },
  {
   "cell_type": "code",
   "execution_count": 43,
   "metadata": {},
   "outputs": [],
   "source": [
    "# read LEfSe results\n",
    "lefse.all <- read.table(\"../data/lefse.all.res\", sep=\"\\t\")\n",
    "lefse.all <- lefse.all[lefse.all$V5!=\"-\",]\n",
    "lefse.all$genus <- sapply(strsplit(as.character(lefse.all$V1), \"[.]\"), \"[\", 6)\n",
    "lefse.all <- lefse.all[!is.na(lefse.all$genus),]"
   ]
  },
  {
   "cell_type": "code",
   "execution_count": 44,
   "metadata": {},
   "outputs": [],
   "source": [
    "lefse.sub <- read.table(\"../data/lefse.sub.res\", sep=\"\\t\")\n",
    "lefse.sub <- lefse.sub[!is.na(lefse.sub$V4),]\n",
    "lefse.sub$genus <- sapply(strsplit(as.character(lefse.sub$V1), \"[.]\"), \"[\", 6)\n",
    "lefse.sub <- lefse.sub[!is.na(lefse.sub$genus),]"
   ]
  },
  {
   "cell_type": "code",
   "execution_count": 45,
   "metadata": {},
   "outputs": [],
   "source": [
    "# load library for plotting\n",
    "library(ComplexHeatmap)"
   ]
  },
  {
   "cell_type": "code",
   "execution_count": 46,
   "metadata": {},
   "outputs": [],
   "source": [
    "# Make set for upset plot\n",
    "\n",
    "genus_ovl <- list(lefse_with_subclass = lefse.all$genus,\n",
    "     lefse_without_subclass = lefse.all$genus,\n",
    "     ancom_with_covariate = as.character(drop_na(res2$out[res2$out$detected_0.9,])$taxa_id),\n",
    "     ancom_without_covariate = as.character(drop_na(res$out[res$out$detected_0.9,])$taxa_id)\n",
    "     )\n",
    "\n",
    "m = make_comb_mat(genus_ovl)\n",
    "cs = comb_size(m)\n",
    "ss = set_size(m)"
   ]
  },
  {
   "cell_type": "code",
   "execution_count": 47,
   "metadata": {},
   "outputs": [
    {
     "data": {
      "text/html": [
       "<strong>pdf:</strong> 2"
      ],
      "text/latex": [
       "\\textbf{pdf:} 2"
      ],
      "text/markdown": [
       "**pdf:** 2"
      ],
      "text/plain": [
       "pdf \n",
       "  2 "
      ]
     },
     "metadata": {},
     "output_type": "display_data"
    }
   ],
   "source": [
    "# Show intersection size above column: https://support.bioconductor.org/p/118557/\n",
    "# modified to show set size at right side of right annotatiion\n",
    "\n",
    "ht = UpSet(m,\n",
    "          top_annotation = upset_top_annotation(m, gp = gpar(fill = firaPalette()[1]), ylim = c(0, 1.1*max(cs))),\n",
    "          right_annotation = upset_right_annotation(m, gp = gpar(fill = firaPalette()[5]), xlim = c(0, 1.1*max(ss))),\n",
    "          comb_col = firaPalette()[1], lwd=3,\n",
    "          pt_size = unit(7, \"mm\"))\n",
    "\n",
    "nc = ncol(m)\n",
    "nr = nrow(m)\n",
    "\n",
    "# Output\n",
    "\n",
    "png(\"../upset_plot.png\", res=150, width=10, height=5, unit=\"in\")\n",
    "ht = draw(ht, height=unit(3, \"in\"),\n",
    "         padding = unit(c(0.2, 0.1, 0.2, 0.9), \"cm\"))\n",
    "co = column_order(ht)\n",
    "ro = row_order(ht)\n",
    "\n",
    "decorate_annotation(\"Intersection\\nsize\", {\n",
    "    grid.text(cs[co], \n",
    "        x = 1:nc, \n",
    "        y = unit(cs[co], \"native\") + unit(1, \"mm\"), \n",
    "        gp = gpar(fontsize = 15), \n",
    "        just = \"bottom\",\n",
    "        default.units = \"native\")\n",
    "})\n",
    "\n",
    "decorate_annotation(\"Set size\", {\n",
    "    grid.text(ss[ro], \n",
    "        y = nr:1, \n",
    "        x = unit(ss[ro], \"native\") + unit(4, \"mm\"), \n",
    "        gp = gpar(fontsize = 15), \n",
    "        just = \"bottom\",\n",
    "        default.units = \"native\")\n",
    "})\n",
    "dev.off()"
   ]
  },
  {
   "cell_type": "code",
   "execution_count": null,
   "metadata": {},
   "outputs": [],
   "source": []
  }
 ],
 "metadata": {
  "kernelspec": {
   "display_name": "R",
   "language": "R",
   "name": "ir"
  },
  "language_info": {
   "codemirror_mode": "r",
   "file_extension": ".r",
   "mimetype": "text/x-r-source",
   "name": "R",
   "pygments_lexer": "r",
   "version": "3.6.1"
  }
 },
 "nbformat": 4,
 "nbformat_minor": 2
}
